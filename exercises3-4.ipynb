{
 "cells": [
  {
   "cell_type": "markdown",
   "metadata": {},
   "source": [
    "## Exercise 3 \"Regularization\" on Oct 5th, 2022"
   ]
  },
  {
   "cell_type": "code",
   "execution_count": 1,
   "metadata": {},
   "outputs": [
    {
     "name": "stderr",
     "output_type": "stream",
     "text": [
      "\n",
      "Bad key \"text.kerning_factor\" on line 4 in\n",
      "/home/jiawei/anaconda3/lib/python3.7/site-packages/matplotlib/mpl-data/stylelib/_classic_test_patch.mplstyle.\n",
      "You probably need to get an updated matplotlibrc file from\n",
      "https://github.com/matplotlib/matplotlib/blob/v3.1.3/matplotlibrc.template\n",
      "or from the matplotlib source distribution\n"
     ]
    }
   ],
   "source": [
    "import numpy as np\n",
    "import pandas as pd\n",
    "from keras.datasets import mnist\n",
    "from keras.utils import to_categorical\n",
    "import matplotlib.pyplot as plt"
   ]
  },
  {
   "cell_type": "markdown",
   "metadata": {},
   "source": [
    "### Load MNIST dataset"
   ]
  },
  {
   "cell_type": "code",
   "execution_count": 2,
   "metadata": {},
   "outputs": [
    {
     "name": "stdout",
     "output_type": "stream",
     "text": [
      "(28, 28)\n",
      "Size of train data: 60000, Size of test data: 10000\n"
     ]
    },
    {
     "data": {
      "image/png": "[encoded data removed]",
      "text/plain": [
       "<Figure size 432x288 with 1 Axes>"
      ]
     },
     "metadata": {
      "needs_background": "light"
     },
     "output_type": "display_data"
    }
   ],
   "source": [
    "# loads the data\n",
    "(train_data, train_labels), (test_data, test_labels) = mnist.load_data()\n",
    "# plots a single digit from the data\n",
    "plt.imshow(train_data[0])\n",
    "print(train_data[0].shape)\n",
    "print(f\"Size of train data: {train_data.shape[0]}, Size of test data: {test_data.shape[0]}\")\n",
    "# Reshapes the data to work in an feed forward network (FFN)\n",
    "train_data = train_data.reshape((train_data.shape[0], train_data[0].shape[0]*train_data[0].shape[1]))\n",
    "test_data = test_data.reshape((test_data.shape[0], test_data[0].shape[0]*test_data[0].shape[1]))\n",
    "num_classes = len(np.unique(train_labels))\n",
    "train_labels = to_categorical(train_labels, num_classes)\n",
    "test_labels = to_categorical(test_labels, num_classes)"
   ]
  },
  {
   "cell_type": "markdown",
   "metadata": {},
   "source": [
    "### Tasks for the exercise today\n",
    "1. Create an identical model, this time adding some regularization and using the Functional API. Can you increase the accuracy of the model?\n",
    "2. Try adding dropout between some layer, where do you find this has the highest impact?\n",
    "3. How does L1 compare to L2 regularization?\n",
    "4. Vary the number of units, the amount of layers, activation fucntions etc, to obtain the best accuracy you can."
   ]
  },
  {
   "cell_type": "markdown",
   "metadata": {},
   "source": [
    "#### Task1"
   ]
  },
  {
   "cell_type": "markdown",
   "metadata": {},
   "source": [
    "Create an identical model, this time adding some regularization and using the Functional API. Can you increase the accuracy of the model?"
   ]
  },
  {
   "cell_type": "code",
   "execution_count": 12,
   "metadata": {},
   "outputs": [],
   "source": [
    "# import the functional API instead of \"Sequential\" model, which is applicable to more cases\n",
    "from tensorflow.keras.models import Model\n",
    "from tensorflow.keras.layers import Dense, Input\n",
    "from tensorflow.keras.regularizers import l1, l2, l1_l2"
   ]
  },
  {
   "cell_type": "markdown",
   "metadata": {},
   "source": [
    "#### Model using L1 regularization"
   ]
  },
  {
   "cell_type": "code",
   "execution_count": 26,
   "metadata": {},
   "outputs": [
    {
     "name": "stdout",
     "output_type": "stream",
     "text": [
      "Epoch 1/10\n",
      "938/938 [==============================] - 3s 3ms/step - loss: 3.5155 - accuracy: 0.7988\n",
      "Epoch 2/10\n",
      "938/938 [==============================] - 3s 4ms/step - loss: 1.6014 - accuracy: 0.8923\n",
      "Epoch 3/10\n",
      "938/938 [==============================] - 3s 3ms/step - loss: 1.1566 - accuracy: 0.9181\n",
      "Epoch 4/10\n",
      "938/938 [==============================] - 3s 3ms/step - loss: 0.8537 - accuracy: 0.9293\n",
      "Epoch 5/10\n",
      "938/938 [==============================] - 3s 3ms/step - loss: 0.6706 - accuracy: 0.9325\n",
      "Epoch 6/10\n",
      "938/938 [==============================] - 4s 4ms/step - loss: 0.5527 - accuracy: 0.9392\n",
      "Epoch 7/10\n",
      "938/938 [==============================] - 3s 3ms/step - loss: 0.4673 - accuracy: 0.9432\n",
      "Epoch 8/10\n",
      "938/938 [==============================] - 3s 3ms/step - loss: 0.4278 - accuracy: 0.9453\n",
      "Epoch 9/10\n",
      "938/938 [==============================] - 3s 3ms/step - loss: 0.3849 - accuracy: 0.9495\n",
      "Epoch 10/10\n",
      "938/938 [==============================] - 3s 3ms/step - loss: 0.3649 - accuracy: 0.9521\n"
     ]
    },
    {
     "data": {
      "text/plain": [
       "<keras.callbacks.History at 0x7f9b882b94d0>"
      ]
     },
     "execution_count": 26,
     "metadata": {},
     "output_type": "execute_result"
    }
   ],
   "source": [
    "inputs = Input(shape=(train_data[0].shape[0], )) # shape=(784, batch_size)\n",
    "# Add two dense layers to the NN model ($x as a variable representing non-input and non-output layers)\n",
    "# Add a dense layer with 64 output nodes with $inputs as the input layer\n",
    "x = Dense(units=64, activation='relu', kernel_regularizer=l1(1*1e-3))(inputs) \n",
    "x = Dense(units=64, activation='relu', kernel_regularizer=l1(1*1e-3))(x)\n",
    "output = Dense(units=10, activation='softmax')(x)\n",
    "# input tensor, output tensor\n",
    "model_l1 = Model(inputs, output) \n",
    "# Compile the L1 model\n",
    "model_l1.compile(optimizer='adam', loss='categorical_crossentropy', metrics=['accuracy'])\n",
    "model_l1.fit(train_data, train_labels, epochs=10, batch_size=64)"
   ]
  },
  {
   "cell_type": "markdown",
   "metadata": {},
   "source": [
    "#### Model using L2 regularization (regularization rate is ten times of L1 regularization)"
   ]
  },
  {
   "cell_type": "code",
   "execution_count": 25,
   "metadata": {},
   "outputs": [
    {
     "name": "stdout",
     "output_type": "stream",
     "text": [
      "Epoch 1/10\n",
      "938/938 [==============================] - 3s 3ms/step - loss: 3.6518 - accuracy: 0.8404\n",
      "Epoch 2/10\n",
      "938/938 [==============================] - 3s 3ms/step - loss: 1.2996 - accuracy: 0.9170\n",
      "Epoch 3/10\n",
      "938/938 [==============================] - 3s 3ms/step - loss: 0.8284 - accuracy: 0.9374\n",
      "Epoch 4/10\n",
      "938/938 [==============================] - 3s 3ms/step - loss: 0.5853 - accuracy: 0.9431\n",
      "Epoch 5/10\n",
      "938/938 [==============================] - 3s 3ms/step - loss: 0.4292 - accuracy: 0.9489\n",
      "Epoch 6/10\n",
      "938/938 [==============================] - 3s 3ms/step - loss: 0.3425 - accuracy: 0.9513\n",
      "Epoch 7/10\n",
      "938/938 [==============================] - 3s 3ms/step - loss: 0.2982 - accuracy: 0.9541\n",
      "Epoch 8/10\n",
      "938/938 [==============================] - 3s 3ms/step - loss: 0.2768 - accuracy: 0.9543\n",
      "Epoch 9/10\n",
      "938/938 [==============================] - 4s 5ms/step - loss: 0.2582 - accuracy: 0.9563\n",
      "Epoch 10/10\n",
      "938/938 [==============================] - 4s 4ms/step - loss: 0.2516 - accuracy: 0.9566\n"
     ]
    },
    {
     "data": {
      "text/plain": [
       "<keras.callbacks.History at 0x7f9b88400150>"
      ]
     },
     "execution_count": 25,
     "metadata": {},
     "output_type": "execute_result"
    }
   ],
   "source": [
    "inputs = Input(shape=(train_data[0].shape[0], )) # shape=(784, batch_size)\n",
    "# Add two dense layers to the NN model ($x as a variable representing non-input and non-output layers)\n",
    "# Add a dense layer with 64 output nodes with $inputs as the input layer\n",
    "x = Dense(units=64, activation='relu', kernel_regularizer=l2(1e-2))(inputs) \n",
    "x = Dense(units=64, activation='relu', kernel_regularizer=l2(1e-2))(x)\n",
    "output = Dense(units=10, activation='softmax')(x)\n",
    "# input tensor, output tensor\n",
    "model_l2 = Model(inputs, output) \n",
    "# Compile the L2 model\n",
    "model_l2.compile(optimizer='adam', loss='categorical_crossentropy', metrics=['accuracy'])\n",
    "model_l2.fit(train_data, train_labels, epochs=10, batch_size=64)"
   ]
  },
  {
   "cell_type": "markdown",
   "metadata": {},
   "source": [
    "#### Model using L1_L2 regularization "
   ]
  },
  {
   "cell_type": "code",
   "execution_count": 24,
   "metadata": {},
   "outputs": [
    {
     "name": "stdout",
     "output_type": "stream",
     "text": [
      "Epoch 1/10\n",
      "938/938 [==============================] - 3s 3ms/step - loss: 4.8407 - accuracy: 0.8347\n",
      "Epoch 2/10\n",
      "938/938 [==============================] - 3s 3ms/step - loss: 2.0363 - accuracy: 0.9105\n",
      "Epoch 3/10\n",
      "938/938 [==============================] - 3s 3ms/step - loss: 1.2134 - accuracy: 0.9319\n",
      "Epoch 4/10\n",
      "938/938 [==============================] - 3s 3ms/step - loss: 0.7544 - accuracy: 0.9399\n",
      "Epoch 5/10\n",
      "938/938 [==============================] - 3s 3ms/step - loss: 0.5270 - accuracy: 0.9433\n",
      "Epoch 6/10\n",
      "938/938 [==============================] - 3s 3ms/step - loss: 0.4336 - accuracy: 0.9456\n",
      "Epoch 7/10\n",
      "938/938 [==============================] - 3s 3ms/step - loss: 0.3979 - accuracy: 0.9452\n",
      "Epoch 8/10\n",
      "938/938 [==============================] - 3s 4ms/step - loss: 0.3844 - accuracy: 0.9475\n",
      "Epoch 9/10\n",
      "938/938 [==============================] - 3s 3ms/step - loss: 0.3706 - accuracy: 0.9484\n",
      "Epoch 10/10\n",
      "938/938 [==============================] - 3s 3ms/step - loss: 0.3819 - accuracy: 0.9488\n"
     ]
    },
    {
     "data": {
      "text/plain": [
       "<keras.callbacks.History at 0x7f9b885a0dd0>"
      ]
     },
     "execution_count": 24,
     "metadata": {},
     "output_type": "execute_result"
    }
   ],
   "source": [
    "inputs = Input(shape=(train_data[0].shape[0], )) # shape=(784, batch_size)\n",
    "# Add two dense layers to the NN model ($x as a variable representing non-input and non-output layers)\n",
    "# Add a dense layer with 64 output nodes with $inputs as the input layer\n",
    "x = Dense(units=64, activation='relu', kernel_regularizer=l1_l2(1e-3, 1e-2))(inputs) \n",
    "x = Dense(units=64, activation='relu', kernel_regularizer=l1_l2(1e-3, 1e-2))(x)\n",
    "output = Dense(units=10, activation='softmax')(x)\n",
    "# input tensor, output tensor\n",
    "model_l1_l2 = Model(inputs, output) \n",
    "# Compile the L2 model\n",
    "model_l1_l2.compile(optimizer='adam', loss='categorical_crossentropy', metrics=['accuracy'])\n",
    "model_l1_l2.fit(train_data, train_labels, epochs=10, batch_size=64)"
   ]
  },
  {
   "cell_type": "markdown",
   "metadata": {},
   "source": [
    "#### We could draw the conclusion that L2 regularization performs the best regarding training accuracy, whereas L1_l2 performs the worst training accuracy"
   ]
  },
  {
   "cell_type": "markdown",
   "metadata": {},
   "source": [
    "#### Task2"
   ]
  },
  {
   "cell_type": "markdown",
   "metadata": {},
   "source": [
    "Try adding dropout between some layer, where do you find this has the highest impact?"
   ]
  },
  {
   "cell_type": "code",
   "execution_count": 27,
   "metadata": {},
   "outputs": [],
   "source": [
    "from keras.layers import Dropout"
   ]
  },
  {
   "cell_type": "code",
   "execution_count": 61,
   "metadata": {},
   "outputs": [
    {
     "name": "stdout",
     "output_type": "stream",
     "text": [
      "Accuracy of the L1 regularization model with 80% dropout at the input layer: 95.33%\n"
     ]
    }
   ],
   "source": [
    "# testing a dropout rate at 0.8 for the input layer for the L1 model\n",
    "inputs = Input(shape=(train_data[0].shape[0], )) # shape=(784, batch_size)\n",
    "# Add two dense layers to the NN model ($x as a variable representing non-input and non-output layers)\n",
    "# Add a dense layer with 64 output nodes with $inputs as the input layer\n",
    "x = Dropout(rate=0.8)(inputs)\n",
    "x = Dense(units=64, activation='relu', kernel_regularizer=l1(1e-3))(inputs) \n",
    "x = Dense(units=64, activation='relu', kernel_regularizer=l1(1e-3))(x)\n",
    "output = Dense(units=10, activation='softmax')(x)\n",
    "# input tensor, output tensor\n",
    "model_dropout = Model(inputs, output) \n",
    "# Compile the L2 model\n",
    "model_dropout.compile(optimizer='adam', loss='categorical_crossentropy', metrics=['accuracy'])\n",
    "model_dropout.fit(train_data, train_labels, epochs=10, batch_size=64, verbose=0)\n",
    "acc_l1_dropout80 = round(model_dropout.evaluate(test_data, test_labels, verbose=0)[1]*100, 2)\n",
    "print(f\"Accuracy of the L1 regularization model with 80% dropout at the input layer: {acc_l1_dropout80}%\")"
   ]
  },
  {
   "cell_type": "markdown",
   "metadata": {},
   "source": [
    "#### Task3"
   ]
  },
  {
   "cell_type": "markdown",
   "metadata": {},
   "source": [
    "How does L1 compare to L2 regularization?"
   ]
  },
  {
   "cell_type": "code",
   "execution_count": 56,
   "metadata": {},
   "outputs": [
    {
     "name": "stdout",
     "output_type": "stream",
     "text": [
      "{'L1': 95.47, 'L2': 94.61, 'L3': 94.65}\n",
      "The best model is: L1\n"
     ]
    }
   ],
   "source": [
    "acc_l1 = round(model_l1.evaluate(test_data, test_labels, verbose=0)[1]*100, 2)\n",
    "acc_l2 = round(model_l2.evaluate(test_data, test_labels, verbose=0)[1]*100, 2)\n",
    "acc_l1_l2 = round(model_l1_l2.evaluate(test_data, test_labels, verbose=0)[1]*100, 2)\n",
    "\n",
    "model_acc_dict = {\"L1\": acc_l1, \"L2\": acc_l2, \"L3\": acc_l1_l2}\n",
    "print(model_acc_dict)\n",
    "print(f\"The best model is: {[k for k, v in model_acc_dict.items() if v==max(model_acc_dict.values())][0]}\")"
   ]
  },
  {
   "cell_type": "markdown",
   "metadata": {},
   "source": [
    "#### Task4"
   ]
  },
  {
   "cell_type": "markdown",
   "metadata": {},
   "source": [
    "Vary the number of units, the amount of layers, activation fucntions etc, to obtain the best accuracy you can."
   ]
  },
  {
   "cell_type": "code",
   "execution_count": 66,
   "metadata": {},
   "outputs": [
    {
     "name": "stdout",
     "output_type": "stream",
     "text": [
      "96.32999897003174\n",
      "96.85999751091003\n",
      "96.78000211715698\n",
      "96.5499997138977\n",
      "96.7199981212616\n",
      "96.74000144004822\n",
      "96.79999947547913\n",
      "96.31999731063843\n",
      "96.61999940872192\n",
      "96.03999853134155\n",
      "96.56999707221985\n",
      "96.70000076293945\n",
      "96.78999781608582\n",
      "96.35999798774719\n",
      "96.85999751091003\n",
      "96.42000198364258\n",
      "96.60000205039978\n",
      "96.28000259399414\n",
      "96.64000272750854\n",
      "96.56999707221985\n",
      "96.59000039100647\n",
      "96.34000062942505\n",
      "96.4900016784668\n",
      "96.70000076293945\n",
      "96.5499997138977\n",
      "96.43999934196472\n",
      "96.10999822616577\n",
      "96.25999927520752\n",
      "96.10000252723694\n",
      "96.10000252723694\n",
      "95.74000239372253\n",
      "95.660001039505\n",
      "96.20000123977661\n",
      "95.16000151634216\n",
      "95.99000215530396\n",
      "95.8400011062622\n",
      "95.59000134468079\n",
      "96.29999995231628\n",
      "94.9500024318695\n",
      "95.80000042915344\n",
      "95.49000263214111\n",
      "95.57999968528748\n",
      "95.27999758720398\n",
      "95.20000219345093\n",
      "95.09000182151794\n",
      "95.67999839782715\n",
      "95.49999833106995\n",
      "95.49000263214111\n",
      "Best accuracy: 96.86, Best params: {'dense_layer_units': 16, 'num_dense_layers': 3, 'activation_function': 'relu'}\n"
     ]
    }
   ],
   "source": [
    "candidate_hidden_layer_units: tuple = (16, 32, 64, 128)\n",
    "candidate_num_hidden_layers: range = range(2, 6) # try 2-5 hidden layers\n",
    "candidate_act_funcs: tuple = (\"relu\", \"sigmoid\", \"tanh\")\n",
    "\n",
    "max_acc: float = 0\n",
    "best_params: dict = {\"dense_layer_units\": None, \"num_dense_layers\": None, \"activation_function\": None}\n",
    "\n",
    "# set all candidate neural networks to have L1 regularization\n",
    "for unit in candidate_hidden_layer_units:\n",
    "    for act_func in candidate_act_funcs:\n",
    "        for num_layers in candidate_num_hidden_layers:\n",
    "            inputs = Input(shape=(train_data[0].shape[0], )) # shape=(784, batch_size)\n",
    "            x = Dense(units=unit, activation=act_func, kernel_regularizer=l1(1e-3))(inputs)\n",
    "            hidden_layer_count: int = 1\n",
    "            while hidden_layer_count < num_layers:\n",
    "                x = Dense(units=unit, activation=act_func, kernel_regularizer=l1(1e-3))(x)\n",
    "                hidden_layer_count+=1\n",
    "            output = Dense(units=10, activation='softmax')(x)\n",
    "            model.compile(optimizer='adam', loss='categorical_crossentropy', metrics=['accuracy'])\n",
    "            model.fit(train_data, train_labels, epochs=10, batch_size=64, verbose=0)\n",
    "            acc = model.evaluate(test_data, test_labels, verbose=0)[1]\n",
    "            print(acc*100)\n",
    "            if acc > max_acc: \n",
    "                max_acc = acc\n",
    "                best_params[\"dense_layer_units\"] = unit\n",
    "                best_params[\"num_dense_layers\"] = num_layers\n",
    "                best_params[\"activation_function\"] = act_func\n",
    "\n",
    "print(f\"Best accuracy: {round(max_acc, 4)*100}, Best params: {best_params}\")"
   ]
  },
  {
   "cell_type": "code",
   "execution_count": null,
   "metadata": {},
   "outputs": [],
   "source": []
  },
  {
   "cell_type": "markdown",
   "metadata": {},
   "source": [
    "## Exercise 4 \"Convolutional Neural Network (CNN)\" on Oct 12th, 2022"
   ]
  },
  {
   "cell_type": "markdown",
   "metadata": {},
   "source": [
    "In CNN, we would not need to reshape input tensors from 2D (28, 28) into 1D (28*28). Instead, reshaping should be from (28, 28) to (28, 28, 1) to fit the nature of CNN input."
   ]
  },
  {
   "cell_type": "markdown",
   "metadata": {},
   "source": [
    "1. Conduct pre-processing, i.e., reshaping and normalization"
   ]
  },
  {
   "cell_type": "code",
   "execution_count": 17,
   "metadata": {},
   "outputs": [
    {
     "name": "stdout",
     "output_type": "stream",
     "text": [
      "(28, 28)\n",
      "Size of train data: 60000, Size of test data: 10000\n",
      "maximum pixel value: 255\n",
      "1.0\n"
     ]
    },
    {
     "data": {
      "image/png": "[encoded data removed]",
      "text/plain": [
       "<Figure size 432x288 with 1 Axes>"
      ]
     },
     "metadata": {
      "needs_background": "light"
     },
     "output_type": "display_data"
    }
   ],
   "source": [
    "# loads the data\n",
    "(train_data, train_labels), (test_data, test_labels) = mnist.load_data()\n",
    "# plots a single digit from the data\n",
    "plt.imshow(train_data[2])\n",
    "print(train_data[0].shape)\n",
    "print(f\"Size of train data: {train_data.shape[0]}, Size of test data: {test_data.shape[0]}\")\n",
    "# Reshapes the data to work in an feed forward network (FFN)\n",
    "train_data = train_data.reshape((train_data.shape[0], train_data[0].shape[0], train_data[0].shape[1], 1))\n",
    "test_data = test_data.reshape((test_data.shape[0], test_data[0].shape[0], test_data[0].shape[1], 1))\n",
    "print(f\"maximum pixel value: {np.max(train_data)}\")\n",
    "pixel_val_max = np.max(train_data)\n",
    "# pixel normalization\n",
    "train_data = train_data.astype(float)/pixel_val_max\n",
    "test_data = test_data.astype(float)/pixel_val_max\n",
    "# conversion of the type of train/test labels\n",
    "num_classes = len(np.unique(train_labels))\n",
    "train_labels = to_categorical(train_labels, num_classes)\n",
    "test_labels = to_categorical(test_labels, num_classes)\n",
    "print(np.max(train_data[:, :, :, 0]))"
   ]
  },
  {
   "cell_type": "markdown",
   "metadata": {},
   "source": [
    "2. Create the CNN and train it, then try playing around with it. Try to improve the accuracy"
   ]
  },
  {
   "cell_type": "code",
   "execution_count": 35,
   "metadata": {},
   "outputs": [],
   "source": [
    "from keras.layers import Input, Dense, Conv2D, MaxPooling2D, Flatten, Dropout, LeakyReLU\n",
    "from sklearn.model_selection import train_test_split\n",
    "from keras.models import Model"
   ]
  },
  {
   "cell_type": "code",
   "execution_count": 42,
   "metadata": {},
   "outputs": [
    {
     "name": "stdout",
     "output_type": "stream",
     "text": [
      "Model: \"model_1\"\n",
      "_________________________________________________________________\n",
      " Layer (type)                Output Shape              Param #   \n",
      "=================================================================\n",
      " input_4 (InputLayer)        [(None, 28, 28, 1)]       0         \n",
      "                                                                 \n",
      " conv2d_2 (Conv2D)           (None, 26, 26, 64)        640       \n",
      "                                                                 \n",
      " max_pooling2d_2 (MaxPooling  (None, 13, 13, 64)       0         \n",
      " 2D)                                                             \n",
      "                                                                 \n",
      " conv2d_3 (Conv2D)           (None, 11, 11, 32)        18464     \n",
      "                                                                 \n",
      " max_pooling2d_3 (MaxPooling  (None, 5, 5, 32)         0         \n",
      " 2D)                                                             \n",
      "                                                                 \n",
      " flatten_1 (Flatten)         (None, 800)               0         \n",
      "                                                                 \n",
      " dense_2 (Dense)             (None, 64)                51264     \n",
      "                                                                 \n",
      " dense_3 (Dense)             (None, 10)                650       \n",
      "                                                                 \n",
      "=================================================================\n",
      "Total params: 71,018\n",
      "Trainable params: 71,018\n",
      "Non-trainable params: 0\n",
      "_________________________________________________________________\n"
     ]
    }
   ],
   "source": [
    "# construct the ML model of two convolutional layers, two max pooling layers and two dense layers\n",
    "inputs = Input((train_data[0].shape[0], train_data[0].shape[1], 1))\n",
    "# the first integer is the number of filters\n",
    "# whereas the second argument is the kernel size, the default stride size is (1, 1), when being unspecified\n",
    "# Also, notice that no padding is specified here\n",
    "x = Conv2D(64, (3, 3), activation='relu')(inputs)\n",
    "x = MaxPooling2D((2, 2))(x)\n",
    "x = Conv2D(64/2, (3, 3), activation='relu')(x)\n",
    "x = MaxPooling2D((2, 2))(x)\n",
    "x = Flatten()(x)\n",
    "x = Dense(64, activation='relu')(x)\n",
    "output = Dense(10, activation='softmax')(x)\n",
    "model = Model(inputs, output)\n",
    "model.summary()"
   ]
  },
  {
   "cell_type": "code",
   "execution_count": 30,
   "metadata": {},
   "outputs": [],
   "source": [
    "%%bash\n",
    "mkdir -p CNN_models"
   ]
  },
  {
   "cell_type": "code",
   "execution_count": 43,
   "metadata": {},
   "outputs": [],
   "source": [
    "model.compile(optimizer='adam', loss='categorical_crossentropy', metrics=['accuracy'])\n",
    "model.save('CNN_models/exer4_untrained-model.h5')"
   ]
  },
  {
   "cell_type": "code",
   "execution_count": 44,
   "metadata": {
    "scrolled": false
   },
   "outputs": [
    {
     "name": "stdout",
     "output_type": "stream",
     "text": [
      "Epoch 1/10\n",
      "891/891 [==============================] - 43s 47ms/step - loss: 0.2001 - accuracy: 0.9414 - val_loss: 0.0752 - val_accuracy: 0.9767\n",
      "Epoch 2/10\n",
      "891/891 [==============================] - 44s 49ms/step - loss: 0.0600 - accuracy: 0.9815 - val_loss: 0.0716 - val_accuracy: 0.9793\n",
      "Epoch 3/10\n",
      "891/891 [==============================] - 41s 46ms/step - loss: 0.0412 - accuracy: 0.9870 - val_loss: 0.0526 - val_accuracy: 0.9847\n",
      "Epoch 4/10\n",
      "891/891 [==============================] - 50s 56ms/step - loss: 0.0305 - accuracy: 0.9905 - val_loss: 0.0513 - val_accuracy: 0.9843\n",
      "Epoch 5/10\n",
      "891/891 [==============================] - 42s 47ms/step - loss: 0.0265 - accuracy: 0.9913 - val_loss: 0.0437 - val_accuracy: 0.9860\n",
      "Epoch 6/10\n",
      "891/891 [==============================] - 44s 49ms/step - loss: 0.0210 - accuracy: 0.9934 - val_loss: 0.0435 - val_accuracy: 0.9857\n",
      "Epoch 7/10\n",
      "891/891 [==============================] - 45s 51ms/step - loss: 0.0178 - accuracy: 0.9942 - val_loss: 0.0391 - val_accuracy: 0.9877\n",
      "Epoch 8/10\n",
      "891/891 [==============================] - 44s 50ms/step - loss: 0.0134 - accuracy: 0.9957 - val_loss: 0.0401 - val_accuracy: 0.9897\n",
      "Epoch 9/10\n",
      "891/891 [==============================] - 43s 48ms/step - loss: 0.0116 - accuracy: 0.9962 - val_loss: 0.0595 - val_accuracy: 0.9863\n",
      "Epoch 10/10\n",
      "891/891 [==============================] - 44s 49ms/step - loss: 0.0095 - accuracy: 0.9969 - val_loss: 0.0433 - val_accuracy: 0.9887\n"
     ]
    },
    {
     "data": {
      "text/plain": [
       "<keras.callbacks.History at 0x7efc8cdad5d0>"
      ]
     },
     "execution_count": 44,
     "metadata": {},
     "output_type": "execute_result"
    }
   ],
   "source": [
    "# using non-augmented train data\n",
    "# Split the remaining data to train and validation\n",
    "x_train, x_val, y_train, y_val = train_test_split(train_data, train_labels, test_size=0.05, shuffle=True)\n",
    "# train the model\n",
    "model.fit(x_train, y_train, epochs=10, batch_size=64, validation_data=(x_val, y_val))"
   ]
  },
  {
   "cell_type": "markdown",
   "metadata": {},
   "source": [
    "Use data generator to train the augmented data"
   ]
  },
  {
   "cell_type": "code",
   "execution_count": 40,
   "metadata": {},
   "outputs": [],
   "source": [
    "from keras.preprocessing.image import ImageDataGenerator"
   ]
  },
  {
   "cell_type": "code",
   "execution_count": 45,
   "metadata": {},
   "outputs": [
    {
     "name": "stdout",
     "output_type": "stream",
     "text": [
      "Epoch 1/10\n",
      "891/891 [==============================] - 53s 59ms/step - loss: 0.3063 - accuracy: 0.9073 - val_loss: 0.0725 - val_accuracy: 0.9790\n",
      "Epoch 2/10\n",
      "891/891 [==============================] - 56s 63ms/step - loss: 0.1416 - accuracy: 0.9571 - val_loss: 0.0680 - val_accuracy: 0.9793\n",
      "Epoch 3/10\n",
      "891/891 [==============================] - 60s 68ms/step - loss: 0.1152 - accuracy: 0.9641 - val_loss: 0.0661 - val_accuracy: 0.9800\n",
      "Epoch 4/10\n",
      "891/891 [==============================] - 65s 73ms/step - loss: 0.1018 - accuracy: 0.9681 - val_loss: 0.0565 - val_accuracy: 0.9837\n",
      "Epoch 5/10\n",
      "891/891 [==============================] - 62s 69ms/step - loss: 0.0954 - accuracy: 0.9699 - val_loss: 0.0519 - val_accuracy: 0.9857\n",
      "Epoch 6/10\n",
      "891/891 [==============================] - 63s 70ms/step - loss: 0.0880 - accuracy: 0.9724 - val_loss: 0.0659 - val_accuracy: 0.9820\n",
      "Epoch 7/10\n",
      "891/891 [==============================] - 60s 67ms/step - loss: 0.0830 - accuracy: 0.9744 - val_loss: 0.0458 - val_accuracy: 0.9870\n",
      "Epoch 8/10\n",
      "891/891 [==============================] - 73s 82ms/step - loss: 0.0757 - accuracy: 0.9761 - val_loss: 0.0504 - val_accuracy: 0.9860\n",
      "Epoch 9/10\n",
      "891/891 [==============================] - 63s 71ms/step - loss: 0.0759 - accuracy: 0.9772 - val_loss: 0.0516 - val_accuracy: 0.9860\n",
      "Epoch 10/10\n",
      "891/891 [==============================] - 60s 67ms/step - loss: 0.0691 - accuracy: 0.9781 - val_loss: 0.0397 - val_accuracy: 0.9883\n"
     ]
    }
   ],
   "source": [
    "img_generator = ImageDataGenerator(rotation_range=20, width_shift_range=0.2, height_shift_range=0.2)\n",
    "model.fit(img_generator.flow(x_train, y_train, batch_size=64), epochs=10, validation_data=(x_val, y_val))\n",
    "model.save(\"CNN_models/exer4_trained-model.h5\")"
   ]
  },
  {
   "cell_type": "markdown",
   "metadata": {},
   "source": [
    "#### Conclusion: the accuracies are slightly worse off after rotation of images."
   ]
  },
  {
   "cell_type": "markdown",
   "metadata": {},
   "source": [
    "3. Visualize one of the following <br /> <b>I would like to choose B</b><br />\n",
    "a. The first convolutional layers' filters. Do this before and after training and comment on the filters<br />\n",
    "b. The feature maps of the first convolutional layer <br />\n",
    "c. The input maximization for any convolutional layer"
   ]
  },
  {
   "cell_type": "code",
   "execution_count": 22,
   "metadata": {},
   "outputs": [],
   "source": [
    "# $labels shall be categorical numpy arrays\n",
    "def get_number_indexes(labels):\n",
    "\tfrom collections import OrderedDict\n",
    "\tindx = {}\n",
    "\tfor i, f in enumerate(labels):\n",
    "\t\tif len(indx) == 10: # count only from 0 to 9\n",
    "\t\t\tbreak\n",
    "\t\tif f not in indx:\n",
    "\t\t\tindx[f] = i\n",
    "\treturn list(OrderedDict(sorted(indx.items())).values())"
   ]
  },
  {
   "cell_type": "markdown",
   "metadata": {},
   "source": [
    "Task A"
   ]
  },
  {
   "cell_type": "code",
   "execution_count": null,
   "metadata": {},
   "outputs": [],
   "source": []
  },
  {
   "cell_type": "markdown",
   "metadata": {},
   "source": [
    "Task B"
   ]
  },
  {
   "cell_type": "code",
   "execution_count": 52,
   "metadata": {},
   "outputs": [],
   "source": [
    "from keras.models import load_model\n",
    "from matplotlib.pyplot import plot\n",
    "import matplotlib.pyplot as plt"
   ]
  },
  {
   "cell_type": "code",
   "execution_count": 73,
   "metadata": {},
   "outputs": [
    {
     "name": "stdout",
     "output_type": "stream",
     "text": [
      "2\n",
      "(3, 3, 1, 64)\n"
     ]
    }
   ],
   "source": [
    "print(len([f for f in model.layers if 'conv' in f.name][0].get_weights()))\n",
    "print([f for f in model.layers if 'conv' in f.name][0].get_weights()[0].shape)"
   ]
  },
  {
   "cell_type": "code",
   "execution_count": 76,
   "metadata": {},
   "outputs": [
    {
     "data": {
      "image/png": "[encoded data removed]",
      "text/plain": [
       "<Figure size 432x288 with 64 Axes>"
      ]
     },
     "metadata": {
      "needs_background": "light"
     },
     "output_type": "display_data"
    },
    {
     "data": {
      "image/png": "[encoded data removed]",
      "text/plain": [
       "<Figure size 432x288 with 64 Axes>"
      ]
     },
     "metadata": {
      "needs_background": "light"
     },
     "output_type": "display_data"
    }
   ],
   "source": [
    "def vis_first_kernels(model):\n",
    "    kernels = [f for f in model.layers if 'conv' in f.name][0].get_weights()[0][:, :, 0, :]\n",
    "    for i in range(0, 64):\n",
    "        plt.subplot(8, 8, i+1)\n",
    "        plt.imshow(kernels[:, :, i], interpolation=\"nearest\", cmap=\"gray\")\n",
    "    plt.show()\n",
    "\n",
    "vis_first_kernels(load_model(\"CNN_models/exer4_untrained-model.h5\"))\n",
    "vis_first_kernels(load_model(\"CNN_models/exer4_trained-model.h5\"))"
   ]
  },
  {
   "cell_type": "markdown",
   "metadata": {},
   "source": [
    "Task C"
   ]
  },
  {
   "cell_type": "code",
   "execution_count": null,
   "metadata": {},
   "outputs": [],
   "source": []
  }
 ],
 "metadata": {
  "kernelspec": {
   "display_name": "Python 3",
   "language": "python",
   "name": "python3"
  },
  "language_info": {
   "codemirror_mode": {
    "name": "ipython",
    "version": 3
   },
   "file_extension": ".py",
   "mimetype": "text/x-python",
   "name": "python",
   "nbconvert_exporter": "python",
   "pygments_lexer": "ipython3",
   "version": "3.7.6"
  }
 },
 "nbformat": 4,
 "nbformat_minor": 4
}
