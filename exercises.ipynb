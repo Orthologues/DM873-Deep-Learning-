{
 "cells": [
  {
   "cell_type": "markdown",
   "metadata": {},
   "source": [
    "## Exercise1 on Sep 21st, 2022"
   ]
  },
  {
   "cell_type": "code",
   "execution_count": null,
   "metadata": {},
   "outputs": [],
   "source": [
    "%%bash\n",
    "pip install -r requirements.txt > /dev/null 2>&1"
   ]
  },
  {
   "cell_type": "markdown",
   "metadata": {},
   "source": [
    "### Load MNIST dataset"
   ]
  },
  {
   "cell_type": "markdown",
   "metadata": {},
   "source": [
    "#### import the dataset and libraries"
   ]
  },
  {
   "cell_type": "code",
   "execution_count": 11,
   "metadata": {
    "scrolled": true
   },
   "outputs": [],
   "source": [
    "import numpy as np\n",
    "from keras.datasets import mnist\n",
    "from keras.utils import to_categorical\n",
    "from tensorflow import keras\n",
    "from tensorflow.keras import layers\n",
    "from tensorflow.keras import optimizers\n",
    "import matplotlib.pyplot as plt"
   ]
  },
  {
   "cell_type": "markdown",
   "metadata": {},
   "source": [
    "#### data transformation"
   ]
  },
  {
   "cell_type": "code",
   "execution_count": 6,
   "metadata": {},
   "outputs": [
    {
     "name": "stdout",
     "output_type": "stream",
     "text": [
      "(60000, 28, 28)\n",
      "(10000, 28, 28)\n"
     ]
    },
    {
     "data": {
      "image/png": "[encoded data removed]",
      "text/plain": [
       "<Figure size 432x288 with 1 Axes>"
      ]
     },
     "metadata": {
      "needs_background": "light"
     },
     "output_type": "display_data"
    }
   ],
   "source": [
    "# Loads the data\n",
    "(train_data, train_labels), (test_data, test_labels) = mnist.load_data()\n",
    "# print the original shape of $train_data\n",
    "print(train_data.shape)\n",
    "print(test_data.shape)\n",
    "# Plots a single digit from the data\n",
    "plt.imshow(train_data[train_data.shape[0]-1])\n",
    "plt.show()\n",
    "# Reshapes the data to work in an FEN\n",
    "train_data = train_data.reshape((60000, 28**2))\n",
    "test_data = test_data.reshape((10000, 28**2))\n",
    "num_classes = len(np.unique(train_labels))\n",
    "train_labels = to_categorical(train_labels, num_classes)\n",
    "test_labels = to_categorical(test_labels, num_classes)"
   ]
  },
  {
   "cell_type": "code",
   "execution_count": 7,
   "metadata": {},
   "outputs": [
    {
     "data": {
      "text/plain": [
       "array([[0., 0., 0., ..., 0., 0., 0.],\n",
       "       [1., 0., 0., ..., 0., 0., 0.],\n",
       "       [0., 0., 0., ..., 0., 0., 0.],\n",
       "       ...,\n",
       "       [0., 0., 0., ..., 0., 0., 0.],\n",
       "       [0., 0., 0., ..., 0., 0., 0.],\n",
       "       [0., 0., 0., ..., 0., 1., 0.]], dtype=float32)"
      ]
     },
     "execution_count": 7,
     "metadata": {},
     "output_type": "execute_result"
    }
   ],
   "source": [
    "num_classes"
   ]
  },
  {
   "cell_type": "markdown",
   "metadata": {},
   "source": [
    "#### construct the model (reference: https://keras.io/api/layers/core_layers/dense/, https://www.tensorflow.org/api_docs/python/tf/keras/Model#fit)"
   ]
  },
  {
   "cell_type": "markdown",
   "metadata": {},
   "source": [
    "#### Exercise 1.1: Construct the model, thus compile the model"
   ]
  },
  {
   "cell_type": "code",
   "execution_count": 53,
   "metadata": {},
   "outputs": [],
   "source": [
    "model = keras.Sequential()\n",
    "# two hidden layers are in this model\n",
    "model.add(layers.Dense(num_classes, activation='relu', input_shape=(28**2, )))\n",
    "model.add(layers.Dense(num_classes, activation='relu'))\n",
    "model.add(layers.Dense(num_classes, activation='relu'))\n",
    "model.add(layers.Dense(num_classes, activation='softmax'))"
   ]
  },
  {
   "cell_type": "code",
   "execution_count": 54,
   "metadata": {},
   "outputs": [
    {
     "name": "stdout",
     "output_type": "stream",
     "text": [
      "Epoch 1/20\n"
     ]
    },
    {
     "name": "stderr",
     "output_type": "stream",
     "text": [
      "/home/jiawei/anaconda3/lib/python3.7/site-packages/keras/optimizers/optimizer_v2/rmsprop.py:140: UserWarning: The `lr` argument is deprecated, use `learning_rate` instead.\n",
      "  super().__init__(name, **kwargs)\n"
     ]
    },
    {
     "name": "stdout",
     "output_type": "stream",
     "text": [
      "938/938 [==============================] - 4s 3ms/step - loss: 1.8612 - accuracy: 0.4943 - val_loss: 1.0088 - val_accuracy: 0.6274\n",
      "Epoch 2/20\n",
      "938/938 [==============================] - 3s 3ms/step - loss: 0.8759 - accuracy: 0.6981 - val_loss: 0.8496 - val_accuracy: 0.7452\n",
      "Epoch 3/20\n",
      "938/938 [==============================] - 3s 3ms/step - loss: 0.6911 - accuracy: 0.7899 - val_loss: 0.6535 - val_accuracy: 0.8125\n",
      "Epoch 4/20\n",
      "938/938 [==============================] - 3s 3ms/step - loss: 0.6037 - accuracy: 0.8259 - val_loss: 0.5733 - val_accuracy: 0.8396\n",
      "Epoch 5/20\n",
      "938/938 [==============================] - 3s 3ms/step - loss: 0.5422 - accuracy: 0.8530 - val_loss: 0.5515 - val_accuracy: 0.8553\n",
      "Epoch 6/20\n",
      "938/938 [==============================] - 3s 3ms/step - loss: 0.5048 - accuracy: 0.8659 - val_loss: 0.5019 - val_accuracy: 0.8785\n",
      "Epoch 7/20\n",
      "938/938 [==============================] - 3s 3ms/step - loss: 0.4725 - accuracy: 0.8751 - val_loss: 0.4679 - val_accuracy: 0.8787\n",
      "Epoch 8/20\n",
      "938/938 [==============================] - 3s 3ms/step - loss: 0.4448 - accuracy: 0.8818 - val_loss: 0.4563 - val_accuracy: 0.8851\n",
      "Epoch 9/20\n",
      "938/938 [==============================] - 3s 3ms/step - loss: 0.4261 - accuracy: 0.8892 - val_loss: 0.4326 - val_accuracy: 0.8893\n",
      "Epoch 10/20\n",
      "938/938 [==============================] - 3s 3ms/step - loss: 0.4130 - accuracy: 0.8904 - val_loss: 0.4245 - val_accuracy: 0.8966\n",
      "Epoch 11/20\n",
      "938/938 [==============================] - 3s 3ms/step - loss: 0.4027 - accuracy: 0.8934 - val_loss: 0.4299 - val_accuracy: 0.8898\n",
      "Epoch 12/20\n",
      "938/938 [==============================] - 3s 3ms/step - loss: 0.3949 - accuracy: 0.8967 - val_loss: 0.4031 - val_accuracy: 0.9015\n",
      "Epoch 13/20\n",
      "938/938 [==============================] - 3s 3ms/step - loss: 0.3826 - accuracy: 0.8998 - val_loss: 0.3968 - val_accuracy: 0.8983\n",
      "Epoch 14/20\n",
      "938/938 [==============================] - 3s 3ms/step - loss: 0.3763 - accuracy: 0.9013 - val_loss: 0.3873 - val_accuracy: 0.9009\n",
      "Epoch 15/20\n",
      "938/938 [==============================] - 3s 3ms/step - loss: 0.3640 - accuracy: 0.9049 - val_loss: 0.3874 - val_accuracy: 0.9042\n",
      "Epoch 16/20\n",
      "938/938 [==============================] - 3s 3ms/step - loss: 0.3584 - accuracy: 0.9066 - val_loss: 0.3652 - val_accuracy: 0.9063\n",
      "Epoch 17/20\n",
      "938/938 [==============================] - 3s 4ms/step - loss: 0.3486 - accuracy: 0.9087 - val_loss: 0.3833 - val_accuracy: 0.9075\n",
      "Epoch 18/20\n",
      "938/938 [==============================] - 3s 3ms/step - loss: 0.3441 - accuracy: 0.9091 - val_loss: 0.3683 - val_accuracy: 0.9125\n",
      "Epoch 19/20\n",
      "938/938 [==============================] - 3s 3ms/step - loss: 0.3355 - accuracy: 0.9111 - val_loss: 0.3767 - val_accuracy: 0.9038\n",
      "Epoch 20/20\n",
      "938/938 [==============================] - 3s 3ms/step - loss: 0.3283 - accuracy: 0.9142 - val_loss: 0.3527 - val_accuracy: 0.9136\n"
     ]
    }
   ],
   "source": [
    "# use $model_cp to test \"rmsprop\" optimizer\n",
    "model_cp = model \n",
    "model_cp.compile(\n",
    "    optimizer=optimizers.RMSprop(lr=0.001),\n",
    "    loss=\"categorical_crossentropy\",\n",
    "    metrics=\"accuracy\"\n",
    ")\n",
    "rmsprop_train_history = model_cp.fit(x=train_data, y=train_labels, batch_size=64, epochs=20, \n",
    "             validation_data=(test_data, test_labels), use_multiprocessing=True)"
   ]
  },
  {
   "cell_type": "code",
   "execution_count": 55,
   "metadata": {},
   "outputs": [
    {
     "name": "stdout",
     "output_type": "stream",
     "text": [
      "Epoch 1/20\n"
     ]
    },
    {
     "name": "stderr",
     "output_type": "stream",
     "text": [
      "/home/jiawei/anaconda3/lib/python3.7/site-packages/keras/optimizers/optimizer_v2/adam.py:114: UserWarning: The `lr` argument is deprecated, use `learning_rate` instead.\n",
      "  super().__init__(name, **kwargs)\n"
     ]
    },
    {
     "name": "stdout",
     "output_type": "stream",
     "text": [
      "938/938 [==============================] - 4s 3ms/step - loss: 0.3187 - accuracy: 0.9139 - val_loss: 0.3238 - val_accuracy: 0.9160\n",
      "Epoch 2/20\n",
      "938/938 [==============================] - 3s 3ms/step - loss: 0.3021 - accuracy: 0.9184 - val_loss: 0.3202 - val_accuracy: 0.9164\n",
      "Epoch 3/20\n",
      "938/938 [==============================] - 3s 3ms/step - loss: 0.2930 - accuracy: 0.9214 - val_loss: 0.3032 - val_accuracy: 0.9191\n",
      "Epoch 4/20\n",
      "938/938 [==============================] - 3s 3ms/step - loss: 0.2798 - accuracy: 0.9239 - val_loss: 0.3004 - val_accuracy: 0.9236\n",
      "Epoch 5/20\n",
      "938/938 [==============================] - 3s 3ms/step - loss: 0.2767 - accuracy: 0.9249 - val_loss: 0.2983 - val_accuracy: 0.9207\n",
      "Epoch 6/20\n",
      "938/938 [==============================] - 3s 3ms/step - loss: 0.2696 - accuracy: 0.9263 - val_loss: 0.3056 - val_accuracy: 0.9208\n",
      "Epoch 7/20\n",
      "938/938 [==============================] - 3s 3ms/step - loss: 0.2592 - accuracy: 0.9294 - val_loss: 0.3040 - val_accuracy: 0.9226\n",
      "Epoch 8/20\n",
      "938/938 [==============================] - 3s 3ms/step - loss: 0.2568 - accuracy: 0.9310 - val_loss: 0.2925 - val_accuracy: 0.9260\n",
      "Epoch 9/20\n",
      "938/938 [==============================] - 3s 3ms/step - loss: 0.2489 - accuracy: 0.9326 - val_loss: 0.2861 - val_accuracy: 0.9260\n",
      "Epoch 10/20\n",
      "938/938 [==============================] - 3s 3ms/step - loss: 0.2444 - accuracy: 0.9330 - val_loss: 0.2687 - val_accuracy: 0.9318\n",
      "Epoch 11/20\n",
      "938/938 [==============================] - 3s 3ms/step - loss: 0.2388 - accuracy: 0.9344 - val_loss: 0.2773 - val_accuracy: 0.9309\n",
      "Epoch 12/20\n",
      "938/938 [==============================] - 3s 3ms/step - loss: 0.2313 - accuracy: 0.9359 - val_loss: 0.2689 - val_accuracy: 0.9313\n",
      "Epoch 13/20\n",
      "938/938 [==============================] - 3s 3ms/step - loss: 0.2268 - accuracy: 0.9371 - val_loss: 0.2648 - val_accuracy: 0.9318\n",
      "Epoch 14/20\n",
      "938/938 [==============================] - 4s 4ms/step - loss: 0.2232 - accuracy: 0.9384 - val_loss: 0.2592 - val_accuracy: 0.9340\n",
      "Epoch 15/20\n",
      "938/938 [==============================] - 3s 3ms/step - loss: 0.2216 - accuracy: 0.9376 - val_loss: 0.2686 - val_accuracy: 0.9286\n",
      "Epoch 16/20\n",
      "938/938 [==============================] - 3s 3ms/step - loss: 0.2169 - accuracy: 0.9400 - val_loss: 0.2636 - val_accuracy: 0.9326\n",
      "Epoch 17/20\n",
      "938/938 [==============================] - 3s 4ms/step - loss: 0.2126 - accuracy: 0.9412 - val_loss: 0.2552 - val_accuracy: 0.9326\n",
      "Epoch 18/20\n",
      "938/938 [==============================] - 3s 3ms/step - loss: 0.2135 - accuracy: 0.9401 - val_loss: 0.2730 - val_accuracy: 0.9296\n",
      "Epoch 19/20\n",
      "938/938 [==============================] - 3s 3ms/step - loss: 0.2096 - accuracy: 0.9416 - val_loss: 0.2769 - val_accuracy: 0.9295\n",
      "Epoch 20/20\n",
      "938/938 [==============================] - 3s 3ms/step - loss: 0.2055 - accuracy: 0.9424 - val_loss: 0.2675 - val_accuracy: 0.9284\n"
     ]
    }
   ],
   "source": [
    "# \"Adam\" optimizer\n",
    "model.compile(\n",
    "    optimizer=optimizers.Adam(lr=0.001),\n",
    "    loss=\"categorical_crossentropy\",\n",
    "    metrics=\"accuracy\"\n",
    ")\n",
    "adam_train_history = model.fit(x=train_data, y=train_labels, batch_size=64, epochs=20, \n",
    "             validation_data=(test_data, test_labels), use_multiprocessing=True)"
   ]
  },
  {
   "cell_type": "markdown",
   "metadata": {},
   "source": [
    "#### Compare \"Adam\" and \"rmsprop\" optimizer. Reference: https://www.tensorflow.org/api_docs/python/tf/keras/optimizers"
   ]
  },
  {
   "cell_type": "markdown",
   "metadata": {},
   "source": [
    "#### Exercise 1.2: Report the accuracy of the models (Adam and RmsProp respectively)"
   ]
  },
  {
   "cell_type": "code",
   "execution_count": 56,
   "metadata": {},
   "outputs": [
    {
     "name": "stdout",
     "output_type": "stream",
     "text": [
      "313/313 [==============================] - 1s 2ms/step - loss: 0.2675 - accuracy: 0.9284\n",
      "313/313 [==============================] - 1s 2ms/step - loss: 0.2675 - accuracy: 0.9284\n",
      "Accuracy of the Adam model: 0.9284 Accuracy of the RmsProps model: 0.9284\n"
     ]
    }
   ],
   "source": [
    "adam_acc = model.evaluate(test_data, test_labels)[1] # returns to (loss, accuracy)\n",
    "rmsprop_acc = model_cp.evaluate(test_data, test_labels)[1] # returns to (loss, accuracy)\n",
    "print(f\"Accuracy of the Adam model: {round(adam_acc, 4)}\", \n",
    "      f\"Accuracy of the RmsProps model: {round(rmsprop_acc, 4)}\")"
   ]
  },
  {
   "cell_type": "markdown",
   "metadata": {},
   "source": [
    "#### Exercise 1.3: Plot the learning history from the history element"
   ]
  },
  {
   "cell_type": "code",
   "execution_count": 65,
   "metadata": {},
   "outputs": [
    {
     "name": "stdout",
     "output_type": "stream",
     "text": [
      "<class 'dict'> <class 'dict'>\n",
      "dict_keys(['loss', 'accuracy', 'val_loss', 'val_accuracy'])\n"
     ]
    }
   ],
   "source": [
    "print(type(adam_train_history.history), type(rmsprop_train_history.history))\n",
    "print(adam_train_history.history.keys())"
   ]
  },
  {
   "cell_type": "code",
   "execution_count": 68,
   "metadata": {},
   "outputs": [
    {
     "data": {
      "text/plain": [
       "keras.callbacks.History"
      ]
     },
     "execution_count": 68,
     "metadata": {},
     "output_type": "execute_result"
    }
   ],
   "source": [
    "type(adam_train_history)"
   ]
  },
  {
   "cell_type": "code",
   "execution_count": 79,
   "metadata": {},
   "outputs": [],
   "source": [
    "def plot_training(history: keras.callbacks.History, title_suffix: str):    \n",
    "    num_epochs = len(history.history['loss'])\n",
    "    plt.plot(range(num_epochs), history.history['loss'], '-', color='r', label='Training loss')\n",
    "    plt.plot(range(num_epochs), history.history['val_loss'], '--', color='purple', label='Validation loss')\n",
    "    plt.plot(range(num_epochs), history.history['accuracy'], '-', color='b', label='Training accuracy')\n",
    "    plt.plot(range(num_epochs), history.history['val_accuracy'], '--', color='purple', label='Validation accuracy')\n",
    "    plt.title(f'Training and validation loss {title_suffix}')\n",
    "    plt.xlabel('Epochs')\n",
    "    plt.ylabel('Loss / Accuracy')\n",
    "    plt.legend()\n",
    "    plt.show()"
   ]
  },
  {
   "cell_type": "code",
   "execution_count": 80,
   "metadata": {},
   "outputs": [
    {
     "data": {
      "image/png": "[encoded data removed]",
      "text/plain": [
       "<Figure size 432x288 with 1 Axes>"
      ]
     },
     "metadata": {
      "needs_background": "light"
     },
     "output_type": "display_data"
    },
    {
     "data": {
      "image/png": "[encoded data removed]",
      "text/plain": [
       "<Figure size 432x288 with 1 Axes>"
      ]
     },
     "metadata": {
      "needs_background": "light"
     },
     "output_type": "display_data"
    }
   ],
   "source": [
    "plot_training(adam_train_history, \"of the Adam Model\")\n",
    "plot_training(rmsprop_train_history, \"of the RMSProps Model\")"
   ]
  }
 ],
 "metadata": {
  "kernelspec": {
   "display_name": "Python 3",
   "language": "python",
   "name": "python3"
  },
  "language_info": {
   "codemirror_mode": {
    "name": "ipython",
    "version": 3
   },
   "file_extension": ".py",
   "mimetype": "text/x-python",
   "name": "python",
   "nbconvert_exporter": "python",
   "pygments_lexer": "ipython3",
   "version": "3.7.6"
  }
 },
 "nbformat": 4,
 "nbformat_minor": 4
}
